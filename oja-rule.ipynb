{
 "cells": [
  {
   "cell_type": "code",
   "execution_count": 2,
   "metadata": {},
   "outputs": [],
   "source": [
    "import numpy as np\n",
    "import matplotlib.pyplot as plt"
   ]
  },
  {
   "cell_type": "code",
   "execution_count": 17,
   "metadata": {},
   "outputs": [],
   "source": [
    "def oja_step(gamma,nu1,nu2,w,dt):\n",
    "    '''\n",
    "    Oja learning rule solved with forward Euler\n",
    "    inpt:\n",
    "        gamma - learning rate\n",
    "        nu1 - firing rate of the pre synaptic neuron\n",
    "        nu2- firing rate of the post synaptic neuron\n",
    "        w - synaptic weight at time t\n",
    "        dt - time step\n",
    "    oupt:\n",
    "        returns the new synaptic weight at time t+dt, where there is a hard max at 10\n",
    "    '''\n",
    "    dw = gamma*(nu1*nu2-w*nu1**2)\n",
    "    return min(w+dt*dw,10) # just in case the weight blows up we cut if off at 10"
   ]
  },
  {
   "cell_type": "code",
   "execution_count": 11,
   "metadata": {},
   "outputs": [],
   "source": [
    "nu = [1,2]           # firing rate of the 2 neurons\n",
    "T = 100              # end time of simulation\n",
    "dt = 0.01            # time step\n",
    "nt = int(T/dt)+1 \n",
    "w = np.zeros((nt,2)) # weights over time\n",
    "w[0,:] = [0.5,0.5]   # initial weight starts both at 0.5\n",
    "gamma = 0.1          # learning rate\n",
    "for i in range(1,nt):\n",
    "    w[i,0] = oja_step(gamma,nu[0],nu[1],w[i-1,0],dt)\n",
    "    w[i,1] = oja_step(gamma,nu[1],nu[0],w[i-1,1],dt)"
   ]
  },
  {
   "cell_type": "code",
   "execution_count": 16,
   "metadata": {},
   "outputs": [
    {
     "data": {
      "image/png": "[encoded data removed]",
      "text/plain": [
       "<Figure size 576x288 with 1 Axes>"
      ]
     },
     "metadata": {
      "needs_background": "light"
     },
     "output_type": "display_data"
    }
   ],
   "source": [
    "plt.figure(figsize=(8,4))\n",
    "plt.plot(w[:,0],label='$w_{21}$')\n",
    "plt.plot(w[:,1],label='$w_{12}$')\n",
    "plt.legend()\n",
    "plt.show()"
   ]
  },
  {
   "cell_type": "code",
   "execution_count": null,
   "metadata": {},
   "outputs": [],
   "source": []
  }
 ],
 "metadata": {
  "kernelspec": {
   "display_name": "Python 3",
   "language": "python",
   "name": "python3"
  },
  "language_info": {
   "codemirror_mode": {
    "name": "ipython",
    "version": 3
   },
   "file_extension": ".py",
   "mimetype": "text/x-python",
   "name": "python",
   "nbconvert_exporter": "python",
   "pygments_lexer": "ipython3",
   "version": "3.6.9"
  }
 },
 "nbformat": 4,
 "nbformat_minor": 4
}
